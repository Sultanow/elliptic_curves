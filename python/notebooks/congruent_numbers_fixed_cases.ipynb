{
 "cells": [
  {
   "cell_type": "code",
   "execution_count": 1,
   "metadata": {
    "id": "a42M43IPu1cD"
   },
   "outputs": [],
   "source": [
    "import pandas as pd\n",
    "import numpy as np\n",
    "from sympy import primerange, gcd\n",
    "from sympy.ntheory import prime\n",
    "import math\n",
    "import matplotlib.pyplot as plt\n",
    "from numba import njit\n",
    "\n",
    "pd.set_option('display.max_colwidth', None)\n",
    "pd.set_option('display.expand_frame_repr', False)\n"
   ]
  },
  {
   "cell_type": "markdown",
   "metadata": {},
   "source": [
    "Condition 4.1\n",
    "$$b_2^4\\cdot q=a^2+p\\cdot b_1^4$$"
   ]
  },
  {
   "cell_type": "code",
   "execution_count": 2,
   "metadata": {},
   "outputs": [],
   "source": [
    "def condition_41(p, q, b1_max=200, b2_max=200):\n",
    "    \"\"\"\n",
    "    Optimized function to check if there exists integers a, b1, b2 that satisfy:\n",
    "    b2^4 * q = a^2 + p * b1^4 and gcd(a, b1 * b2) = 1.\n",
    "    \n",
    "    Returns:\n",
    "    - (1, a, b1, b2) if the condition is fulfilled\n",
    "    - (0, NaN, NaN, NaN) otherwise\n",
    "    \"\"\"\n",
    "    p = int(p)\n",
    "    q = int(q)\n",
    "    for b1 in range(1, b1_max + 1):\n",
    "        b1_4 = b1**4  # Precompute b1^4\n",
    "        for b2 in range(1, b2_max + 1):\n",
    "            b2_4_q = b2**4 * q  # Precompute b2^4 * q\n",
    "            rhs = b2_4_q - p * b1_4\n",
    "            \n",
    "            # Only check further if rhs is a non-negative perfect square\n",
    "            if rhs >= 0:\n",
    "                a_sq = rhs\n",
    "                a = int(math.isqrt(a_sq))\n",
    "                \n",
    "                # Verify if a is a solution and gcd(a, b1 * b2) = 1\n",
    "                if a * a == a_sq and gcd(a, b1 * b2) == 1:\n",
    "                    return (1, a, b1, b2)\n",
    "    \n",
    "    return (0, np.nan, np.nan, np.nan)\n",
    "\n",
    "@njit\n",
    "def condition_41_numba(p, q, b1_max=200, b2_max=200):\n",
    "    for b1 in range(1, b1_max + 1):\n",
    "        b1_4 = b1**4\n",
    "        for b2 in range(1, b2_max + 1):\n",
    "            b2_4_q = b2**4 * q\n",
    "            rhs = b2_4_q - p * b1_4\n",
    "            if rhs >= 0:\n",
    "                a = int(np.sqrt(rhs))\n",
    "                if a * a == rhs:\n",
    "                    return (1, a, b1, b2)\n",
    "    return (0, np.nan, np.nan, np.nan)\n"
   ]
  },
  {
   "cell_type": "markdown",
   "metadata": {},
   "source": [
    "Condition 4.2\n",
    "$$b_2^4\\cdot p\\cdot q=a^2+b_1^4$$"
   ]
  },
  {
   "cell_type": "code",
   "execution_count": 3,
   "metadata": {},
   "outputs": [],
   "source": [
    "def condition_42(p, q, b1_max=200, b2_max=200):\n",
    "    \"\"\"\n",
    "    Check if there exists integers a, b1, b2 that satisfy:\n",
    "    b2^4 * p * q = a^2 + b1^4 and gcd(a, b1 * b2) = 1.\n",
    "    \n",
    "    Returns:\n",
    "    - (1, a, b1, b2) if the condition is fulfilled\n",
    "    - (0, NaN, NaN, NaN) otherwise\n",
    "    \"\"\"\n",
    "    p = int(p)\n",
    "    q = int(q)\n",
    "    for b1 in range(1, b1_max + 1):\n",
    "        b1_4 = b1**4  # Precompute b1^4\n",
    "        for b2 in range(1, b2_max + 1):\n",
    "            b2_4_pq = b2**4 * p * q  # Precompute b2^4 * p * q\n",
    "            rhs = b2_4_pq - b1_4\n",
    "            \n",
    "            # Only check further if rhs is a non-negative perfect square\n",
    "            if rhs >= 0:\n",
    "                a_sq = rhs\n",
    "                a = int(math.isqrt(a_sq))\n",
    "                \n",
    "                # Verify if a is a solution and gcd(a, b1 * b2) = 1\n",
    "                if a * a == a_sq and gcd(a, b1 * b2) == 1:\n",
    "                    return (1, a, b1, b2)\n",
    "    \n",
    "    return (0, np.nan, np.nan, np.nan)\n",
    "\n",
    "@njit\n",
    "def condition_42_numba(p, q, b1_max=200, b2_max=200):\n",
    "    for b1 in range(1, b1_max + 1):\n",
    "        b1_4 = b1**4\n",
    "        for b2 in range(1, b2_max + 1):\n",
    "            b2_4_pq = b2**4 * p * q\n",
    "            rhs = b2_4_pq - b1_4\n",
    "            if rhs >= 0:\n",
    "                a = int(np.sqrt(rhs))\n",
    "                if a * a == rhs:\n",
    "                    return (1, a, b1, b2)\n",
    "    return (0, np.nan, np.nan, np.nan)"
   ]
  },
  {
   "cell_type": "markdown",
   "metadata": {},
   "source": [
    "Condition 4.3\n",
    "$$b_2^4\\cdot q=p\\cdot b_1^4-a^2$$"
   ]
  },
  {
   "cell_type": "code",
   "execution_count": 4,
   "metadata": {},
   "outputs": [],
   "source": [
    "def condition_43(p, q, b1_max=200, b2_max=200):\n",
    "    \"\"\"\n",
    "    Check if there exists integers a, b1, b2 that satisfy:\n",
    "    b2^4 * q = p * b1^4 - a^2.\n",
    "    \n",
    "    Returns:\n",
    "    - (1, a, b1, b2) if the condition is fulfilled\n",
    "    - (0, NaN, NaN, NaN) otherwise\n",
    "    \"\"\"\n",
    "    p, q = int(p), int(q)\n",
    "    for b1 in range(1, b1_max + 1):\n",
    "        b1_4 = b1**4  # Precompute b1^4\n",
    "        for b2 in range(1, b2_max + 1):\n",
    "            b2_4_q = b2**4 * q  # Precompute b2^4 * q\n",
    "            rhs = p * b1_4 - b2_4_q\n",
    "            \n",
    "            # Only check further if rhs is a non-negative perfect square\n",
    "            if rhs >= 0:\n",
    "                a = int(math.isqrt(rhs))\n",
    "                \n",
    "                # Verify if a^2 equals rhs\n",
    "                if a * a == rhs:\n",
    "                    return (1, a, b1, b2)\n",
    "    \n",
    "    return (0, np.nan, np.nan, np.nan)\n",
    "\n",
    "@njit\n",
    "def condition_43_numba(p, q, b1_max=200, b2_max=200):\n",
    "    for b1 in range(1, b1_max + 1):\n",
    "        b1_4 = b1**4\n",
    "        for b2 in range(1, b2_max + 1):\n",
    "            b2_4_q = b2**4 * q\n",
    "            rhs = p * b1_4 - b2_4_q\n",
    "            if rhs >= 0:\n",
    "                a = int(np.sqrt(rhs))\n",
    "                if a * a == rhs:\n",
    "                    return (1, a, b1, b2)\n",
    "    return (0, np.nan, np.nan, np.nan)"
   ]
  },
  {
   "cell_type": "markdown",
   "metadata": {},
   "source": [
    "Condition 4.4\n",
    "$$b_2^4\\cdot p\\cdot q=b_1^4-a^2$$"
   ]
  },
  {
   "cell_type": "code",
   "execution_count": 5,
   "metadata": {},
   "outputs": [],
   "source": [
    "def condition_44(p, q, b1_max=200, b2_max=200):\n",
    "    \"\"\"\n",
    "    Check if there exists integers a, b1, b2 that satisfy:\n",
    "    b2^4 * p * q = b1^4 - a^2.\n",
    "    \n",
    "    Returns:\n",
    "    - (1, a, b1, b2) if the condition is fulfilled\n",
    "    - (0, NaN, NaN, NaN) otherwise\n",
    "    \"\"\"\n",
    "    p, q = int(p), int(q)\n",
    "    for b1 in range(1, b1_max + 1):\n",
    "        b1_4 = b1**4  # Precompute b1^4\n",
    "        for b2 in range(1, b2_max + 1):\n",
    "            b2_4_pq = b2**4 * p * q  # Precompute b2^4 * p * q\n",
    "            rhs = b1_4 - b2_4_pq\n",
    "            \n",
    "            # Only check further if rhs is a non-negative perfect square\n",
    "            if rhs >= 0:\n",
    "                a = int(math.isqrt(rhs))\n",
    "                \n",
    "                # Verify if a^2 equals rhs\n",
    "                if a * a == rhs:\n",
    "                    return (1, a, b1, b2)\n",
    "    \n",
    "    return (0, np.nan, np.nan, np.nan)\n",
    "\n",
    "@njit\n",
    "def condition_44_numba(p, q, b1_max=200, b2_max=200):\n",
    "    for b1 in range(1, b1_max + 1):\n",
    "        b1_4 = b1**4\n",
    "        for b2 in range(1, b2_max + 1):\n",
    "            b2_4_pq = b2**4 * p * q\n",
    "            rhs = b1_4 - b2_4_pq\n",
    "            if rhs >= 0:\n",
    "                # Use np.sqrt for compatibility with Numba\n",
    "                a = int(np.sqrt(rhs))\n",
    "                if a * a == rhs:\n",
    "                    return (1, a, b1, b2)\n",
    "    return (0, np.nan, np.nan, np.nan)"
   ]
  },
  {
   "cell_type": "markdown",
   "metadata": {},
   "source": [
    "Create a DataFrame with pairs of odd primes, where each row represents a unique pair $(𝑝,q)$ with $𝑝<𝑞$."
   ]
  },
  {
   "cell_type": "code",
   "execution_count": 6,
   "metadata": {},
   "outputs": [],
   "source": [
    "primes = primerange(3, 7000) #6000\n",
    "prime_list=list(primes)\n",
    "#prime_list.reverse()\n",
    "l = len(prime_list)\n",
    "\n",
    "p_values = []\n",
    "q_values = []\n",
    "for i in range(len(prime_list)):\n",
    "    for j in range(i + 1, l):\n",
    "        p_values.append(prime_list[i])\n",
    "        q_values.append(prime_list[j])\n",
    "\n",
    "df_primes = pd.DataFrame({\"p\": p_values, \"q\": q_values}, dtype=np.int32)"
   ]
  },
  {
   "cell_type": "code",
   "execution_count": 7,
   "metadata": {},
   "outputs": [],
   "source": [
    "df_primes[['condition_41', 'condition_41_a', 'condition_41_b1', 'condition_41_b2']] = df_primes.apply(lambda row: pd.Series(condition_41_numba(row['p'], row['q'])), axis=1)\n",
    "df_primes['condition_41'] = df_primes['condition_41'].astype(np.int8)\n",
    "df_primes[['condition_41_a', 'condition_41_b1', 'condition_41_b2']] = df_primes[['condition_41_a', 'condition_41_b1', 'condition_41_b2']].astype(pd.Int32Dtype())"
   ]
  },
  {
   "cell_type": "code",
   "execution_count": 8,
   "metadata": {},
   "outputs": [],
   "source": [
    "df_primes[['condition_42', 'condition_42_a', 'condition_42_b1', 'condition_42_b2']] = df_primes.apply(lambda row: pd.Series(condition_42_numba(row['p'], row['q'])), axis=1)\n",
    "df_primes['condition_42'] = df_primes['condition_42'].astype(np.int8)\n",
    "df_primes[['condition_42_a', 'condition_42_b1', 'condition_42_b2']] = df_primes[['condition_42_a', 'condition_42_b1', 'condition_42_b2']].astype(pd.Int32Dtype())"
   ]
  },
  {
   "cell_type": "code",
   "execution_count": 9,
   "metadata": {},
   "outputs": [],
   "source": [
    "df_primes[['condition_43', 'condition_43_a', 'condition_43_b1', 'condition_43_b2']] = df_primes.apply(lambda row: pd.Series(condition_43_numba(row['p'], row['q'])), axis=1)\n",
    "df_primes['condition_43'] = df_primes['condition_43'].astype(np.int8)\n",
    "df_primes[['condition_43_a', 'condition_43_b1', 'condition_43_b2']] = df_primes[['condition_43_a', 'condition_43_b1', 'condition_43_b2']].astype(pd.Int32Dtype())"
   ]
  },
  {
   "cell_type": "code",
   "execution_count": 10,
   "metadata": {},
   "outputs": [],
   "source": [
    "df_primes[['condition_44', 'condition_44_a', 'condition_44_b1', 'condition_44_b2']] = df_primes.apply(lambda row: pd.Series(condition_44_numba(row['p'], row['q'])), axis=1)\n",
    "df_primes['condition_44'] = df_primes['condition_44'].astype(np.int8)\n",
    "df_primes[['condition_44_a', 'condition_44_b1', 'condition_44_b2']] = df_primes[['condition_44_a', 'condition_44_b1', 'condition_44_b2']].astype(pd.Int32Dtype())"
   ]
  },
  {
   "cell_type": "code",
   "execution_count": 14,
   "metadata": {},
   "outputs": [
    {
     "data": {
      "image/png": "[encoded data removed]",
      "text/plain": [
       "<Figure size 1000x1000 with 1 Axes>"
      ]
     },
     "metadata": {},
     "output_type": "display_data"
    }
   ],
   "source": [
    "df_condition_met = df_primes[df_primes['condition_44'] == 1]\n",
    "\n",
    "# Set up matrix indices for unique primes\n",
    "# Combine unique values from 'p' and 'q' columns and sort them\n",
    "# prime_index_map = {3: 0, 5: 1, 7: 2, 11: 3, 13: 4, 17: 5, 19: 6, 23: 7, 29: 8, ...}\n",
    "unique_primes = sorted(set(df_primes['p'].unique()).union(set(df_primes['q'].unique())))\n",
    "prime_index_map = {prime: idx for idx, prime in enumerate(unique_primes)}\n",
    "\n",
    "# Initialize matrix with zeros\n",
    "matrix_size = len(unique_primes)\n",
    "matrix = np.zeros((matrix_size, matrix_size), dtype=int)\n",
    "\n",
    "# Map indices\n",
    "# p_indices = [  0   0   0 ... 159 161 161]\n",
    "# q_indices = [  2   6  17 ... 164 162 164]\n",
    "p_indices = df_condition_met['p'].map(prime_index_map).astype(int).to_numpy()\n",
    "q_indices = df_condition_met['q'].map(prime_index_map).astype(int).to_numpy()\n",
    "\n",
    "# Update matrix with valid indices only\n",
    "matrix[p_indices, q_indices] = 1\n",
    "#matrix[q_indices, p_indices] = 1\n",
    "\n",
    "# Generate thinned labels for axis\n",
    "max_prime = max(unique_primes)\n",
    "axis_labels = list(enumerate(primerange(3, max_prime)))\n",
    "axis_labels = axis_labels[::len(axis_labels) // 9][:-1] + [axis_labels[-1]]  # Thin labels\n",
    "ticks = [e[0] for e in axis_labels]\n",
    "ticklabels = [e[1] for e in axis_labels]\n",
    "\n",
    "# Plot with thinned labels\n",
    "fig, ax = plt.subplots(figsize=(10, 10))\n",
    "ax.matshow(matrix, interpolation='nearest')\n",
    "ax.set_xticks(ticks)\n",
    "ax.set_yticks(ticks)\n",
    "ax.set_xticklabels(ticklabels, rotation=90, fontsize=8)\n",
    "ax.set_yticklabels(ticklabels, fontsize=8)\n",
    "plt.show()"
   ]
  }
 ],
 "metadata": {
  "colab": {
   "collapsed_sections": [],
   "name": "graphwizz-tree.ipynb",
   "provenance": [],
   "toc_visible": true
  },
  "kernelspec": {
   "display_name": "Python 3",
   "language": "python",
   "name": "python3"
  },
  "language_info": {
   "codemirror_mode": {
    "name": "ipython",
    "version": 3
   },
   "file_extension": ".py",
   "mimetype": "text/x-python",
   "name": "python",
   "nbconvert_exporter": "python",
   "pygments_lexer": "ipython3",
   "version": "3.12.3"
  }
 },
 "nbformat": 4,
 "nbformat_minor": 0
}
